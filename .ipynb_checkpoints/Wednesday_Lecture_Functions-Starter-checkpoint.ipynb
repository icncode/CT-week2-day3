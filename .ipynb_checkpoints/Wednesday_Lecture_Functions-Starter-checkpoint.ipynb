{
 "cells": [
  {
   "cell_type": "markdown",
   "metadata": {},
   "source": [
    "# Functions"
   ]
  },
  {
   "cell_type": "markdown",
   "metadata": {},
   "source": [
    "#### Warm up"
   ]
  },
  {
   "cell_type": "code",
   "execution_count": 3,
   "metadata": {},
   "outputs": [
    {
     "name": "stdout",
     "output_type": "stream",
     "text": [
      "['The Beatles', 'The Rolling Stones', 'The Eagles', 'The Temptations']\n"
     ]
    }
   ],
   "source": [
    "bands = ['  thE beATles   ', 'tHe RoLLing sTones..', '.,tHe eagles', 'the tEMptationS  ']\n",
    "\n",
    "print([band.strip('. ,').title() for band in bands])"
   ]
  },
  {
   "cell_type": "code",
   "execution_count": 4,
   "metadata": {},
   "outputs": [],
   "source": [
    "# Output: ['The Beatles', 'The Rolling Stones', etc]"
   ]
  },
  {
   "cell_type": "code",
   "execution_count": 5,
   "metadata": {},
   "outputs": [
    {
     "name": "stdout",
     "output_type": "stream",
     "text": [
      "['The Who', 'The Doors', 'The Band', 'The Kinks']\n"
     ]
    }
   ],
   "source": [
    "bands2 = [' The whO  ', '  .   , tHE dOORS  ', ' the bAnd   ', '...,  THE kINks    ']\n",
    "\n",
    "print([band.strip('. ,').title() for band in bands2])"
   ]
  },
  {
   "cell_type": "markdown",
   "metadata": {},
   "source": [
    "## Functions"
   ]
  },
  {
   "cell_type": "code",
   "execution_count": 6,
   "metadata": {},
   "outputs": [],
   "source": [
    "# DRY principle\n",
    "# Don't\n",
    "# Repeat\n",
    "# Yourself"
   ]
  },
  {
   "cell_type": "markdown",
   "metadata": {},
   "source": [
    "##### User-Defined vs. Built-In Function"
   ]
  },
  {
   "cell_type": "code",
   "execution_count": 7,
   "metadata": {},
   "outputs": [
    {
     "name": "stdout",
     "output_type": "stream",
     "text": [
      "<built-in function max>\n",
      "Help on built-in function max in module builtins:\n",
      "\n",
      "max(...)\n",
      "    max(iterable, *[, default=obj, key=func]) -> value\n",
      "    max(arg1, arg2, *args, *[, key=func]) -> value\n",
      "    \n",
      "    With a single iterable argument, return its biggest item. The\n",
      "    default keyword-only argument specifies an object to return if\n",
      "    the provided iterable is empty.\n",
      "    With two or more arguments, return the largest argument.\n",
      "\n"
     ]
    }
   ],
   "source": [
    "# Built-in functions\n",
    "print(max)\n",
    "help(max)"
   ]
  },
  {
   "cell_type": "code",
   "execution_count": 8,
   "metadata": {},
   "outputs": [
    {
     "name": "stdout",
     "output_type": "stream",
     "text": [
      "<function say_hello at 0x000001713BC9DF70>\n"
     ]
    },
    {
     "data": {
      "text/plain": [
       "<function __main__.say_hello()>"
      ]
     },
     "execution_count": 8,
     "metadata": {},
     "output_type": "execute_result"
    }
   ],
   "source": [
    "# User Defined Function\n",
    "# Syntax: def function_name():\n",
    "#             <CODE TO EXECUTE WHEN CALLED>\n",
    "\n",
    "# Creating a function\n",
    "def say_hello():\n",
    "    print('Hello World!')\n",
    "\n",
    "print(say_hello)\n",
    "say_hello"
   ]
  },
  {
   "cell_type": "code",
   "execution_count": 9,
   "metadata": {},
   "outputs": [
    {
     "name": "stdout",
     "output_type": "stream",
     "text": [
      "Help on function say_hello in module __main__:\n",
      "\n",
      "say_hello()\n",
      "    # Creating a function\n",
      "\n"
     ]
    }
   ],
   "source": [
    "help(say_hello)"
   ]
  },
  {
   "cell_type": "code",
   "execution_count": 10,
   "metadata": {},
   "outputs": [
    {
     "name": "stdout",
     "output_type": "stream",
     "text": [
      "Before Execution\n",
      "Hello World!\n",
      "After Execution\n"
     ]
    }
   ],
   "source": [
    "# Executing a function\n",
    "# Syntax: function_name()\n",
    "\n",
    "print('Before Execution')\n",
    "say_hello() # Executing the function - don't forget the ()\n",
    "print('After Execution')\n"
   ]
  },
  {
   "cell_type": "markdown",
   "metadata": {},
   "source": [
    "##### Accepting Parameters"
   ]
  },
  {
   "cell_type": "code",
   "execution_count": 11,
   "metadata": {},
   "outputs": [
    {
     "name": "stdout",
     "output_type": "stream",
     "text": [
      "Hello Lukas Reeves\n"
     ]
    }
   ],
   "source": [
    "# Syntax: def function_name(param1, param2):\n",
    "#             <CODE TO EXECUTE with variable param1 and param2>\n",
    "def say_hello_again(first, last): # < first and last are parameters (aka palceholders)\n",
    "    print(f\"Hello {first} {last}\")\n",
    "\n",
    "    \n",
    "# Execute\n",
    "# Syntax: function_name(data1, data2)\n",
    "say_hello_again('Lukas', 'Reeves') # <- 'Lukas' and 'Reeves' are arguments (aka real data)"
   ]
  },
  {
   "cell_type": "code",
   "execution_count": 12,
   "metadata": {},
   "outputs": [
    {
     "ename": "TypeError",
     "evalue": "say_hello_again() missing 2 required positional arguments: 'first' and 'last'",
     "output_type": "error",
     "traceback": [
      "\u001b[1;31m---------------------------------------------------------------------------\u001b[0m",
      "\u001b[1;31mTypeError\u001b[0m                                 Traceback (most recent call last)",
      "\u001b[1;32m~\\AppData\\Local\\Temp\\ipykernel_5492\\451820501.py\u001b[0m in \u001b[0;36m<module>\u001b[1;34m\u001b[0m\n\u001b[1;32m----> 1\u001b[1;33m \u001b[0msay_hello_again\u001b[0m\u001b[1;33m(\u001b[0m\u001b[1;33m)\u001b[0m \u001b[1;31m# Position Matters!\u001b[0m\u001b[1;33m\u001b[0m\u001b[1;33m\u001b[0m\u001b[0m\n\u001b[0m",
      "\u001b[1;31mTypeError\u001b[0m: say_hello_again() missing 2 required positional arguments: 'first' and 'last'"
     ]
    }
   ],
   "source": [
    "say_hello_again() # Position Matters!"
   ]
  },
  {
   "cell_type": "markdown",
   "metadata": {},
   "source": [
    "##### Passing in variables as arguments"
   ]
  },
  {
   "cell_type": "code",
   "execution_count": null,
   "metadata": {},
   "outputs": [],
   "source": [
    "city1 = 'Boston'\n",
    "state1 = 'MA'\n",
    "zip_code1 = '02215'\n",
    "\n",
    "city2 = 'New York'\n",
    "state2 = 'NY'\n",
    "zip_code2 = '10234'\n",
    "\n",
    "# Function to format our address -> City, State - Zip code\n",
    "def print_formatted_address(city, state, zip_code):\n",
    "    print(f'{city}, {state} - {zip_code}')\n",
    "    \n",
    "print_formatted_address(\"Chircago\", 'IL', '60606')\n",
    "print_formatted_address(city1, state1, zip_code1)\n",
    "print_formatted_address(city2, state2, zip_code2)"
   ]
  },
  {
   "cell_type": "code",
   "execution_count": null,
   "metadata": {},
   "outputs": [],
   "source": [
    "print(\"\"\"\n",
    "Hello is this a multiline\n",
    "string that does not require\n",
    "any special characters\"\"\")"
   ]
  },
  {
   "cell_type": "code",
   "execution_count": null,
   "metadata": {},
   "outputs": [],
   "source": [
    "print(\"Hello this is a multiline \\nstring that does not require \\nany speecial characters\")"
   ]
  },
  {
   "cell_type": "code",
   "execution_count": 18,
   "metadata": {},
   "outputs": [],
   "source": [
    "def create_mailing_address(first_name, last_name, address, city, state, zip_code):\n",
    "    print(f\"\"\"\n",
    "{first_name.title()} {last_name.title()}\n",
    "{address.title()}\n",
    "{city.title()}, {state.upper()} {zip_code}\n",
    "    \"\"\")"
   ]
  },
  {
   "cell_type": "code",
   "execution_count": 19,
   "metadata": {},
   "outputs": [
    {
     "name": "stdout",
     "output_type": "stream",
     "text": [
      "What is the first name? lukas\n",
      "What is the last name? reeves\n",
      "What is Lukas's address? 123 fake\n",
      "In which city? lake forest\n",
      "What is the state postal code? ca\n",
      "What is the zip code? 92512\n",
      "\n",
      "Lukas Reeves\n",
      "123 Fake\n",
      "Lake Forest, CA 92512\n",
      "    \n"
     ]
    }
   ],
   "source": [
    "first = input('What is the first name? ')\n",
    "last = input('What is the last name? ')\n",
    "address = input(f\"What is {first.title()}'s address? \")\n",
    "city = input('In which city? ')\n",
    "state = input('What is the state postal code? ')\n",
    "zip_code = input('What is the zip code? ')\n",
    "\n",
    "create_mailing_address(first, last, address, city, state, zip_code)"
   ]
  },
  {
   "cell_type": "markdown",
   "metadata": {},
   "source": [
    "##### Keyword Arguments"
   ]
  },
  {
   "cell_type": "code",
   "execution_count": 24,
   "metadata": {},
   "outputs": [],
   "source": [
    "def make_a_payment(total_amount_due, amount_paid, account_number):\n",
    "    new_total = total_amount_due - amount_paid\n",
    "    print(f\"You have made a payment of ${amount_paid} to Account #{account_number}\")\n",
    "    print(f\"Your new balance due is ${new_total}\")\n",
    "    print(\"Thank you for your payment.\")"
   ]
  },
  {
   "cell_type": "code",
   "execution_count": 25,
   "metadata": {},
   "outputs": [
    {
     "name": "stdout",
     "output_type": "stream",
     "text": [
      "You have made a payment of $100 to Account #32085643\n",
      "Your new balance due is $900\n",
      "Thank you for your payment.\n"
     ]
    }
   ],
   "source": [
    "make_a_payment(1000, 100, '32085643')"
   ]
  },
  {
   "cell_type": "code",
   "execution_count": 26,
   "metadata": {},
   "outputs": [
    {
     "name": "stdout",
     "output_type": "stream",
     "text": [
      "You have made a payment of $213 to Account #34347893\n",
      "Your new balance due is $287\n",
      "Thank you for your payment.\n"
     ]
    }
   ],
   "source": [
    "# function_name(arg_name=arg_value, etc.)\n",
    "\n",
    "make_a_payment(account_number = '34347893', amount_paid=213, total_amount_due=500)"
   ]
  },
  {
   "cell_type": "code",
   "execution_count": 29,
   "metadata": {},
   "outputs": [
    {
     "name": "stdout",
     "output_type": "stream",
     "text": [
      "You have made a payment of $1000 to Account #98734994\n",
      "Your new balance due is $4000\n",
      "Thank you for your payment.\n"
     ]
    }
   ],
   "source": [
    "make_a_payment(5000, account_number='98734994', amount_paid=1000)"
   ]
  },
  {
   "cell_type": "code",
   "execution_count": null,
   "metadata": {},
   "outputs": [],
   "source": [
    "# positional arguments MUST COME BEFORE any keyword arguments\n",
    "\n",
    "# make_a_payment(acount_number='98734994', account_number='98734994', amount_paid=1000, 5000)"
   ]
  },
  {
   "cell_type": "markdown",
   "metadata": {},
   "source": [
    "##### Default Parameters"
   ]
  },
  {
   "cell_type": "code",
   "execution_count": 54,
   "metadata": {
    "scrolled": true
   },
   "outputs": [],
   "source": [
    "# default parameters need to be AFTER non-default at all times\n",
    "\n",
    "def make_a_burger(customer_name, cheese=True, lettus=True, tomato=True, onions='', bacon=None):\n",
    "    total_price = 4.50\n",
    "    receipt = f\"Thank you {customer_name}. Here is your receipt:\\n\"\n",
    "    receipt += \"1 Hamburger\\n\"\n",
    "    if cheese:\n",
    "        receipt += \"\\twith cheese\\n\"\n",
    "    if lettus:\n",
    "        receipt += \"\\twith tlettus\\n\"\n",
    "    if tomato:\n",
    "        receipt += \"\\twith tomatoe\\n\"\n",
    "    if onions:\n",
    "        receipt += f\"\\twith {onions} onions\\n\"\n",
    "        total_price += .50\n",
    "    if bacon:\n",
    "        receipt += f\"\\twith {bacon} slices of bacon\\n\"\n",
    "        total_price += .75*bacon\n",
    "    receipt += f\"Total: ${total_price:.2f}\"\n",
    "    print(receipt)"
   ]
  },
  {
   "cell_type": "code",
   "execution_count": 34,
   "metadata": {},
   "outputs": [
    {
     "name": "stdout",
     "output_type": "stream",
     "text": [
      "Thank you Lukas. Here is your receipt:\n",
      "1 Hamburger\n",
      "\twith cheese\n",
      "\twith tlettus\n",
      "\twith tomatoe\n",
      "Total: $4.50\n"
     ]
    }
   ],
   "source": [
    "make_a_burger('Lukas')"
   ]
  },
  {
   "cell_type": "code",
   "execution_count": 35,
   "metadata": {},
   "outputs": [
    {
     "name": "stdout",
     "output_type": "stream",
     "text": [
      "Thank you Jamie. Here is your receipt:\n",
      "1 Hamburger\n",
      "\twith tlettus\n",
      "\twith tomatoe\n",
      "Total: $4.50\n"
     ]
    }
   ],
   "source": [
    "make_a_burger('Jamie', False)"
   ]
  },
  {
   "cell_type": "code",
   "execution_count": 39,
   "metadata": {},
   "outputs": [
    {
     "name": "stdout",
     "output_type": "stream",
     "text": [
      "Thank you Frank. Here is your receipt:\n",
      "1 Hamburger\n",
      "\twith cheese\n",
      "\twith tlettus\n",
      "\twith tomatoe\n",
      "\twith grilled onions\n",
      "Total: $5.00\n"
     ]
    }
   ],
   "source": [
    "make_a_burger('Frank', True, True, True, 'grilled')"
   ]
  },
  {
   "cell_type": "code",
   "execution_count": 49,
   "metadata": {},
   "outputs": [
    {
     "name": "stdout",
     "output_type": "stream",
     "text": [
      "Thank you Frank. Here is your receipt:\n",
      "1 Hamburger\n",
      "\twith cheese\n",
      "\twith tlettus\n",
      "\twith grilled onions\n",
      "Total: $5.00\n"
     ]
    }
   ],
   "source": [
    "make_a_burger('Frank', onions='grilled', tomato=False)"
   ]
  },
  {
   "cell_type": "code",
   "execution_count": 55,
   "metadata": {},
   "outputs": [
    {
     "name": "stdout",
     "output_type": "stream",
     "text": [
      "Thank you Frank. Here is your receipt:\n",
      "1 Hamburger\n",
      "\twith cheese\n",
      "\twith tlettus\n",
      "\twith tomatoe\n",
      "\twith raw onions\n",
      "\twith 2 slices of bacon\n",
      "Total: $6.50\n"
     ]
    }
   ],
   "source": [
    "make_a_burger('Frank', onions='raw', bacon=2)"
   ]
  },
  {
   "cell_type": "markdown",
   "metadata": {},
   "source": [
    "##### \\*args and **kwargs"
   ]
  },
  {
   "cell_type": "code",
   "execution_count": 56,
   "metadata": {},
   "outputs": [
    {
     "name": "stdout",
     "output_type": "stream",
     "text": [
      "Help on built-in function max in module builtins:\n",
      "\n",
      "max(...)\n",
      "    max(iterable, *[, default=obj, key=func]) -> value\n",
      "    max(arg1, arg2, *args, *[, key=func]) -> value\n",
      "    \n",
      "    With a single iterable argument, return its biggest item. The\n",
      "    default keyword-only argument specifies an object to return if\n",
      "    the provided iterable is empty.\n",
      "    With two or more arguments, return the largest argument.\n",
      "\n"
     ]
    }
   ],
   "source": [
    "help(max)"
   ]
  },
  {
   "cell_type": "code",
   "execution_count": 60,
   "metadata": {
    "scrolled": true
   },
   "outputs": [
    {
     "data": {
      "text/plain": [
       "2134"
      ]
     },
     "execution_count": 60,
     "metadata": {},
     "output_type": "execute_result"
    }
   ],
   "source": [
    "max(20, 43, 24, 55, 435, 34, 256, 2134, 34, 234, 34)"
   ]
  },
  {
   "cell_type": "code",
   "execution_count": 67,
   "metadata": {},
   "outputs": [
    {
     "name": "stdout",
     "output_type": "stream",
     "text": [
      "Arg1:  a\n",
      "extras:  ('b', 'c', 'd')\n",
      "Last Arg:  True\n",
      "<class 'tuple'>\n"
     ]
    }
   ],
   "source": [
    "def my_function(arg1, *extras, last_arg=True):\n",
    "    print('Arg1: ', arg1)\n",
    "    print('extras: ', extras)\n",
    "    print('Last Arg: ', last_arg)\n",
    "    print(type(extras))\n",
    "    \n",
    "my_function('a', 'b', 'c', 'd')"
   ]
  },
  {
   "cell_type": "code",
   "execution_count": 71,
   "metadata": {},
   "outputs": [
    {
     "data": {
      "text/plain": [
       "59"
      ]
     },
     "execution_count": 71,
     "metadata": {},
     "output_type": "execute_result"
    }
   ],
   "source": [
    "def my_max(arg1, arg2, *args):\n",
    "    current_max = arg1 if arg1 > arg2 else arg2\n",
    "    if args:\n",
    "        for num in args:\n",
    "            if num > current_max:\n",
    "                current_max = num\n",
    "    return current_max\n",
    "    \n",
    "my_max(5,14, 18, 59)    "
   ]
  },
  {
   "cell_type": "code",
   "execution_count": 75,
   "metadata": {},
   "outputs": [
    {
     "name": "stdout",
     "output_type": "stream",
     "text": [
      "Arg1:  a\n",
      "Args:  ('b', 'c', 'd', 'e')\n",
      "<class 'tuple'>\n",
      "KWargs:  {'key': 'value', 'num': 10}\n",
      "<class 'dict'>\n"
     ]
    }
   ],
   "source": [
    "def my_function(arg1, *args, **kwargs):\n",
    "    print('Arg1: ', arg1)\n",
    "    print('Args: ', args)\n",
    "    print(type(args))\n",
    "    \n",
    "    print('KWargs: ', kwargs)\n",
    "    print(type(kwargs))\n",
    "    \n",
    "my_function('a', 'b', 'c', 'd', 'e', key='value', num=10)"
   ]
  },
  {
   "cell_type": "markdown",
   "metadata": {},
   "source": [
    "#### In Class Exercise 1"
   ]
  },
  {
   "cell_type": "markdown",
   "metadata": {},
   "source": [
    "Create a function that takes in a color, make, and model and formats it into a string.<br>\n",
    "Then loop over the cars list and apply the function to each element.<br>\n",
    "Expected Output:<br>\n",
    "<code>Blue Toyota Tundra\n",
    "Green Chevy Silverado\n",
    "Pink Ford F-150</code>\n"
   ]
  },
  {
   "cell_type": "code",
   "execution_count": 77,
   "metadata": {},
   "outputs": [],
   "source": [
    "cars = [\n",
    "    ('blue', 'toyota', 'tundra'), \n",
    "    ('green', 'chevy', 'silverado'), \n",
    "    ('pink', 'ford', 'f-150'), \n",
    "    ('red', 'ford', 'mustang'),\n",
    "    ('yellow', 'toyota', 'prius')\n",
    "]"
   ]
  },
  {
   "cell_type": "code",
   "execution_count": 96,
   "metadata": {},
   "outputs": [],
   "source": [
    "def format_car(color, make, model):\n",
    "    print(f'{color.title()} {make.title()} {model.title()}')"
   ]
  },
  {
   "cell_type": "code",
   "execution_count": 99,
   "metadata": {},
   "outputs": [
    {
     "name": "stdout",
     "output_type": "stream",
     "text": [
      "Blue Toyota Tundra\n",
      "Green Chevy Silverado\n",
      "Pink Ford F-150\n",
      "Red Ford Mustang\n",
      "Yellow Toyota Prius\n"
     ]
    }
   ],
   "source": [
    "for col, mak, mod in cars:\n",
    "    (format_car(col, mak, mod))"
   ]
  },
  {
   "cell_type": "code",
   "execution_count": 97,
   "metadata": {},
   "outputs": [
    {
     "name": "stdout",
     "output_type": "stream",
     "text": [
      "Blue Toyota Tundra\n",
      "Green Chevy Silverado\n",
      "Pink Ford F-150\n",
      "Red Ford Mustang\n",
      "Yellow Toyota Prius\n"
     ]
    }
   ],
   "source": [
    "for car in cars:\n",
    "    format_car(*car)"
   ]
  },
  {
   "cell_type": "code",
   "execution_count": 95,
   "metadata": {},
   "outputs": [
    {
     "name": "stdout",
     "output_type": "stream",
     "text": [
      "Blue Toyota Tundra\n",
      "Green Chevy Silverado\n",
      "Pink Ford F-150\n",
      "Red Ford Mustang\n",
      "Yellow Toyota Prius\n"
     ]
    }
   ],
   "source": [
    "def car_printer(cars):\n",
    "    for car in (cars):\n",
    "        print(f\"{car[0].title()} {car[1].title()} {car[2].title()}\")\n",
    "              \n",
    "car_printer(cars)"
   ]
  },
  {
   "cell_type": "markdown",
   "metadata": {},
   "source": [
    "## Scope <br>\n",
    "<p>Scope refers to the ability to access variables, different types of scope include:<br>a) Global<br>b) Function (local)<br>c) Class (local)</p>"
   ]
  },
  {
   "cell_type": "code",
   "execution_count": 112,
   "metadata": {},
   "outputs": [
    {
     "name": "stdout",
     "output_type": "stream",
     "text": [
      "Student: Jimmy Smith\n",
      "Little Jimmy has been assigned to Ms. Buttercup's class\n",
      "Little Jimmy\n"
     ]
    }
   ],
   "source": [
    "student = \"Little Jimmy\" # global\n",
    "teacher = \"Ms. Buttercup\" # global\n",
    "\n",
    "def assign_student(student_name): # studen_name is a local variable scoped to the function\n",
    "    student = \"Jimmy Smith\" # local variable scoped to function\n",
    "    print('Student:', student) # will first check to see if there is a student in the local scope, if not check global\n",
    "    new_variable = 'Hello' # local variable scoped to the function\n",
    "    print(f\"{student_name} has been assigned to {teacher}'s class\")\n",
    "    \n",
    "assign_student(student)\n",
    "print(student)\n",
    "# print(student_name)  - doesn't work because this variable isn't in this scope\n",
    "# print(new_variable)"
   ]
  },
  {
   "cell_type": "code",
   "execution_count": 113,
   "metadata": {},
   "outputs": [],
   "source": [
    "results = []\n",
    "def even_or_odd(nums):\n",
    "    for num in nums:\n",
    "        if num % 2 == 0:\n",
    "            results.append('even')\n",
    "        else:\n",
    "            results.append('odd')\n",
    "    print(results)"
   ]
  },
  {
   "cell_type": "code",
   "execution_count": 114,
   "metadata": {},
   "outputs": [
    {
     "name": "stdout",
     "output_type": "stream",
     "text": [
      "['odd', 'even', 'odd', 'even', 'odd']\n"
     ]
    }
   ],
   "source": [
    "even_or_odd([1,2,3,4,5])"
   ]
  },
  {
   "cell_type": "code",
   "execution_count": 115,
   "metadata": {},
   "outputs": [
    {
     "name": "stdout",
     "output_type": "stream",
     "text": [
      "['odd', 'even', 'odd', 'even', 'odd', 'even', 'odd', 'even', 'odd', 'even']\n"
     ]
    }
   ],
   "source": [
    "even_or_odd([10, 15, 20, 25, 30])"
   ]
  },
  {
   "cell_type": "markdown",
   "metadata": {},
   "source": [
    "##### Returning Values"
   ]
  },
  {
   "cell_type": "code",
   "execution_count": 116,
   "metadata": {},
   "outputs": [
    {
     "name": "stdout",
     "output_type": "stream",
     "text": [
      "10\n"
     ]
    }
   ],
   "source": [
    "# Mathematical Function - y = f(x)\n",
    "# Where f is the function, x is the input(s), and y is the dependent variable (or the return variable)\n",
    "\n",
    "def f(x):\n",
    "    return 2*x\n",
    "\n",
    "y = f(5)\n",
    "print(y)"
   ]
  },
  {
   "cell_type": "code",
   "execution_count": 117,
   "metadata": {},
   "outputs": [
    {
     "name": "stdout",
     "output_type": "stream",
     "text": [
      "20 400\n"
     ]
    }
   ],
   "source": [
    "z = f(10)\n",
    "print(z, z**2)"
   ]
  },
  {
   "cell_type": "code",
   "execution_count": 120,
   "metadata": {
    "scrolled": true
   },
   "outputs": [
    {
     "name": "stdout",
     "output_type": "stream",
     "text": [
      "0\n"
     ]
    }
   ],
   "source": [
    "# Return will also immediately terminate the function\n",
    "def early_return(n):\n",
    "    for i in range(n):\n",
    "        return i\n",
    "        \n",
    "x = early_return(10)\n",
    "print(x)"
   ]
  },
  {
   "cell_type": "code",
   "execution_count": 125,
   "metadata": {},
   "outputs": [
    {
     "name": "stdout",
     "output_type": "stream",
     "text": [
      "0\n"
     ]
    }
   ],
   "source": [
    "def early_return_again(n):\n",
    "    for i in range(n):\n",
    "        return i\n",
    "    print('Still in the function')\n",
    "    \n",
    "x = early_return_again(100000000000)\n",
    "print(x)"
   ]
  },
  {
   "cell_type": "code",
   "execution_count": 130,
   "metadata": {},
   "outputs": [
    {
     "name": "stdout",
     "output_type": "stream",
     "text": [
      "Brian\n"
     ]
    }
   ],
   "source": [
    "names = ['Brian', 'Dave', 'Mike', 'Meridith', 'Maggie']\n",
    "\n",
    "def get_a_person(person_name):\n",
    "    for name in names:\n",
    "        if name == person_name:\n",
    "            return name\n",
    "    return 'Not a Person'\n",
    "\n",
    "brian = get_a_person('Brian')\n",
    "print(brian)"
   ]
  },
  {
   "cell_type": "markdown",
   "metadata": {},
   "source": [
    "#### Multiple returns in a function"
   ]
  },
  {
   "cell_type": "code",
   "execution_count": 132,
   "metadata": {},
   "outputs": [
    {
     "name": "stdout",
     "output_type": "stream",
     "text": [
      "True\n",
      "False\n"
     ]
    }
   ],
   "source": [
    "def can_vote(birth_year):\n",
    "    if 2023 - birth_year >= 18:\n",
    "        return True\n",
    "    else:\n",
    "        return False\n",
    "print(can_vote(2000))\n",
    "print(can_vote(2006))"
   ]
  },
  {
   "cell_type": "code",
   "execution_count": 137,
   "metadata": {},
   "outputs": [
    {
     "name": "stdout",
     "output_type": "stream",
     "text": [
      "True\n",
      "False\n"
     ]
    }
   ],
   "source": [
    "def can_vote(birth_year):\n",
    "    return 2023 - birth_year >= 18\n",
    "\n",
    "print(can_vote(2000))\n",
    "print(can_vote(2006))"
   ]
  },
  {
   "cell_type": "code",
   "execution_count": 138,
   "metadata": {},
   "outputs": [
    {
     "data": {
      "text/plain": [
       "-1"
      ]
     },
     "execution_count": 138,
     "metadata": {},
     "output_type": "execute_result"
    }
   ],
   "source": [
    "def linear_search(list_to_search, target):\n",
    "    for i in range(len(list_to_search)):\n",
    "        if list_to_search[i] == target:\n",
    "            return f\"{target} is at index {i}\"\n",
    "    return -1\n",
    "\n",
    "linear_search([2, 4, 6, 7, 8, 9, 13, 15, 23, 28, 45],13)"
   ]
  },
  {
   "cell_type": "code",
   "execution_count": 140,
   "metadata": {},
   "outputs": [
    {
     "data": {
      "text/plain": [
       "'13 is at index 6'"
      ]
     },
     "execution_count": 140,
     "metadata": {},
     "output_type": "execute_result"
    }
   ],
   "source": [
    "def linear_search(list_to_search, target):\n",
    "    for index,value in enumerate(list_to_search):\n",
    "        if value == target:\n",
    "            return f\"{target} is at index {index}\"\n",
    "    return -1\n",
    "\n",
    "linear_search([2, 4, 6, 7, 8, 9, 13, 15, 23, 28, 45],13)"
   ]
  },
  {
   "cell_type": "markdown",
   "metadata": {},
   "source": [
    "##### Difference between `return` and `print`"
   ]
  },
  {
   "cell_type": "code",
   "execution_count": 142,
   "metadata": {},
   "outputs": [],
   "source": [
    "def create_headline_print(message):\n",
    "    print(message.strip().title() + '!')\n",
    "    \n",
    "def create_headline_return(message):\n",
    "    return message.strip().title() + '!'"
   ]
  },
  {
   "cell_type": "code",
   "execution_count": 146,
   "metadata": {},
   "outputs": [
    {
     "name": "stdout",
     "output_type": "stream",
     "text": [
      "Super Bowl Sunday!\n"
     ]
    }
   ],
   "source": [
    "create_headline_print('     suPEr boWL sUnDay     ')"
   ]
  },
  {
   "cell_type": "code",
   "execution_count": 150,
   "metadata": {},
   "outputs": [
    {
     "name": "stdout",
     "output_type": "stream",
     "text": [
      "\n",
      "    Super Bowl Sunday! by Lukas Reeves\n",
      "    Super Bowl Sunday was a great time.\n",
      "    \n"
     ]
    }
   ],
   "source": [
    "def publish_article(headline, author, body):\n",
    "    clean_headline = create_headline_return(headline)\n",
    "    print(f\"\"\"\n",
    "    {clean_headline} by {author}\n",
    "    {body}\n",
    "    \"\"\")\n",
    "    \n",
    "publish_article('      supER bOWl suNDaY    ', 'Lukas Reeves', 'Super Bowl Sunday was a great time.')\n"
   ]
  },
  {
   "cell_type": "markdown",
   "metadata": {},
   "source": [
    "#### Functions with Lists"
   ]
  },
  {
   "cell_type": "code",
   "execution_count": 151,
   "metadata": {},
   "outputs": [],
   "source": [
    "bands = ['  thE beATles   ', 'tHe RoLLing sTones..', '.,tHe eagles', 'the tEMptationS  ']\n",
    "bands2 = [' The whO  ', '  .   , tHE dOORS  ', ' the bAnd   ', '...,  THE kINks    ']"
   ]
  },
  {
   "cell_type": "code",
   "execution_count": 152,
   "metadata": {},
   "outputs": [],
   "source": [
    "def clean_band_names(messy_bands):\n",
    "    clean_bands = [band.strip('. ,').title() for band in messy_bands]\n",
    "    return clean_bands"
   ]
  },
  {
   "cell_type": "code",
   "execution_count": 155,
   "metadata": {},
   "outputs": [
    {
     "name": "stdout",
     "output_type": "stream",
     "text": [
      "['The Beatles', 'The Rolling Stones', 'The Eagles', 'The Temptations']\n"
     ]
    }
   ],
   "source": [
    "cleaned_bands1 = clean_band_names(bands)\n",
    "print(cleaned_bands1)"
   ]
  },
  {
   "cell_type": "code",
   "execution_count": 157,
   "metadata": {},
   "outputs": [
    {
     "name": "stdout",
     "output_type": "stream",
     "text": [
      "['The Who', 'The Doors', 'The Band', 'The Kinks']\n"
     ]
    }
   ],
   "source": [
    "cleaned_bands2 = clean_band_names(bands2)\n",
    "print(cleaned_bands2)"
   ]
  },
  {
   "cell_type": "code",
   "execution_count": 159,
   "metadata": {},
   "outputs": [
    {
     "name": "stdout",
     "output_type": "stream",
     "text": [
      "['even', 'odd', 'even', 'even', 'even', 'odd', 'odd', 'odd', 'even', 'odd']\n"
     ]
    }
   ],
   "source": [
    "def even_odd(a_list):\n",
    "    output = []\n",
    "    for num in a_list:\n",
    "        if num % 2 == 0:\n",
    "            output.append('even')\n",
    "        else:\n",
    "            output.append('odd')\n",
    "    return output\n",
    "\n",
    "result = even_odd([2, 5, 2, 8, 6, 1, 7, 5, 6, 3])\n",
    "print(result)"
   ]
  },
  {
   "cell_type": "code",
   "execution_count": 160,
   "metadata": {},
   "outputs": [
    {
     "name": "stdout",
     "output_type": "stream",
     "text": [
      "['odd', 'even', 'odd', 'even', 'odd']\n"
     ]
    }
   ],
   "source": [
    "new_result = even_odd([1,2,3,4,5])\n",
    "print(new_result)"
   ]
  },
  {
   "cell_type": "markdown",
   "metadata": {},
   "source": [
    "#### In-Class Exercise 2"
   ]
  },
  {
   "cell_type": "markdown",
   "metadata": {},
   "source": [
    "Create a function that takes in the list of tuples ('city', 'country') and a country name and returns a list of the cities in that country"
   ]
  },
  {
   "cell_type": "code",
   "execution_count": 191,
   "metadata": {},
   "outputs": [
    {
     "name": "stdout",
     "output_type": "stream",
     "text": [
      "['London', 'Manchester']\n",
      "['Barcelona', 'Madrid']\n"
     ]
    }
   ],
   "source": [
    "cities = [\n",
    "    (\"London\", \"England\"), \n",
    "    (\"Manchester\", \"England\"), \n",
    "    (\"Barcelona\", \"Spain\"), \n",
    "    (\"Madrid\", \"Spain\"), \n",
    "    (\"Rome\", \"Italy\"), \n",
    "    (\"Florence\", \"Italy\")\n",
    "]\n",
    "\n",
    "\n",
    "def cities_in_country(list_of_tuple, country_name):\n",
    "#     cities = []\n",
    "#     for city, country in list_of_tuple:\n",
    "#         if country == country_name:\n",
    "#             cities.append(city)\n",
    "\n",
    "    return [city for city, country in list_of_tuple if country == country_name]\n",
    "\n",
    "    pass\n",
    "\n",
    "print(cities_in_country(cities, 'England')) \n",
    "print(cities_in_country(cities, 'Spain'))"
   ]
  },
  {
   "cell_type": "markdown",
   "metadata": {},
   "source": [
    "#### Docstrings"
   ]
  },
  {
   "cell_type": "code",
   "execution_count": 192,
   "metadata": {},
   "outputs": [
    {
     "name": "stdout",
     "output_type": "stream",
     "text": [
      "Help on built-in function len in module builtins:\n",
      "\n",
      "len(obj, /)\n",
      "    Return the number of items in a container.\n",
      "\n"
     ]
    }
   ],
   "source": [
    "help(len)"
   ]
  },
  {
   "cell_type": "code",
   "execution_count": 195,
   "metadata": {},
   "outputs": [
    {
     "name": "stdout",
     "output_type": "stream",
     "text": [
      "Help on function add_nums in module __main__:\n",
      "\n",
      "add_nums(num1, num2)\n",
      "    add_nums takes in two number types (int or float) and will return the two added together\n",
      "    num1 -> int or float\n",
      "    num2 -> int or float\n",
      "    returns int or float\n",
      "\n"
     ]
    }
   ],
   "source": [
    "def add_nums(num1, num2):\n",
    "    \"\"\"\n",
    "    add_nums takes in two number types (int or float) and will return the two added together\n",
    "    num1 -> int or float\n",
    "    num2 -> int or float\n",
    "    returns int or float\n",
    "    \"\"\"\n",
    "    return num1 + num2\n",
    "\n",
    "help(add_nums)"
   ]
  },
  {
   "cell_type": "code",
   "execution_count": 196,
   "metadata": {},
   "outputs": [
    {
     "data": {
      "text/plain": [
       "30"
      ]
     },
     "execution_count": 196,
     "metadata": {},
     "output_type": "execute_result"
    }
   ],
   "source": [
    "add_nums(10,20)"
   ]
  },
  {
   "cell_type": "code",
   "execution_count": 197,
   "metadata": {},
   "outputs": [
    {
     "data": {
      "text/plain": [
       "38.2"
      ]
     },
     "execution_count": 197,
     "metadata": {},
     "output_type": "execute_result"
    }
   ],
   "source": [
    "add_nums(14.5, 23.7)"
   ]
  },
  {
   "cell_type": "markdown",
   "metadata": {},
   "source": [
    "#### Whiteboard Approach"
   ]
  },
  {
   "cell_type": "markdown",
   "metadata": {},
   "source": [
    "1. What are the input(s)?\n",
    "2. What are the output(s)?\n",
    "3. Consider constraints and edge cases\n",
    "4. Write out steps logically (No python)\n",
    "5. Pseudocode\n",
    "6. Code"
   ]
  },
  {
   "cell_type": "markdown",
   "metadata": {},
   "source": [
    "#### Whiteboard Example"
   ]
  },
  {
   "cell_type": "markdown",
   "metadata": {},
   "source": [
    "Find Even numbers<br>\n",
    "Create a function that, given a list as a parameter, finds the even numbers <br>\n",
    "inside the list. The function should then return a list.<br>\n",
    "Bonus: Use a list comprehension to find your solution<br>\n",
    "Example:<br>\n",
    "Input: [2, 7, 10, 11, 12]<br>\n",
    "Output: [2, 10, 12]<br>"
   ]
  },
  {
   "cell_type": "code",
   "execution_count": 199,
   "metadata": {},
   "outputs": [],
   "source": [
    "# 1. Input(s): List[int]\n",
    "\n",
    "# 2. Output(s): List[int] -> all int should be even\n",
    "\n",
    "# 3. If input is empty or has no evens, return an empty list. Can assume all ints in input list are between 0 and 100\n",
    "\n",
    "# 4. Go through the list, check each item and see if it is even\n",
    "# if so, add that item to the list of even numbers, if not, move on to the next number\n",
    "# once finished going through all numbers in list, return the list of even numbers\n",
    "\n",
    "# 5. \n",
    "# define a function that accepts a parameter\n",
    "def get_evens(list_of_nums):\n",
    "    # define an empty list to keep track of our even numbers\n",
    "    even_nums = []\n",
    "    # loop through the list we were given\n",
    "    for num in list_of_nums:\n",
    "        # if element is even aka has a remainder of 0 when divided by 2\n",
    "        if num % 2 == 0:\n",
    "            # append num to the even numbers list \n",
    "            even_nums.append(num)\n",
    "        # if the element is not even, do nothing\n",
    "        \n",
    "    # once finished looping, return the even nums list\n",
    "    return even_nums\n"
   ]
  },
  {
   "cell_type": "code",
   "execution_count": 201,
   "metadata": {},
   "outputs": [
    {
     "data": {
      "text/plain": [
       "[2, 4, 6, 2, 4, 6, 4, 2, 4]"
      ]
     },
     "execution_count": 201,
     "metadata": {},
     "output_type": "execute_result"
    }
   ],
   "source": [
    "get_evens([2, 4, 6, 9, 1, 2, 4, 3, 6, 4, 2, 4, 7])"
   ]
  },
  {
   "cell_type": "code",
   "execution_count": 203,
   "metadata": {},
   "outputs": [
    {
     "name": "stdout",
     "output_type": "stream",
     "text": [
      "[2, 4, 6, 9, 1, 2, 4, 3, 6, 4, 2, 4, 7]\n"
     ]
    }
   ],
   "source": [
    "# code it one line at a time and check the result after every line by printing \n",
    "# def get_evens(list_of_nums):\n",
    "#     print(list_of_nums)\n",
    "    \n",
    "get_evens([2, 4, 6, 9, 1, 2, 4, 3, 6, 4, 2, 4, 7])"
   ]
  }
 ],
 "metadata": {
  "kernelspec": {
   "display_name": "Python 3 (ipykernel)",
   "language": "python",
   "name": "python3"
  },
  "language_info": {
   "codemirror_mode": {
    "name": "ipython",
    "version": 3
   },
   "file_extension": ".py",
   "mimetype": "text/x-python",
   "name": "python",
   "nbconvert_exporter": "python",
   "pygments_lexer": "ipython3",
   "version": "3.9.13"
  }
 },
 "nbformat": 4,
 "nbformat_minor": 2
}
